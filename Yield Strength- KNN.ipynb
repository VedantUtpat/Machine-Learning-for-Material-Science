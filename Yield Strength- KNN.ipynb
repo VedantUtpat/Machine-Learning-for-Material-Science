{
 "cells": [
  {
   "cell_type": "code",
   "execution_count": 1,
   "id": "9964df26",
   "metadata": {},
   "outputs": [],
   "source": [
    "from sklearn.neighbors import KNeighborsClassifier\n",
    "from sklearn.model_selection import train_test_split\n",
    "\n",
    "import numpy as np\n",
    "import matplotlib.pyplot as plt\n",
    "import pandas as pd"
   ]
  },
  {
   "cell_type": "code",
   "execution_count": 2,
   "id": "6550c17d",
   "metadata": {},
   "outputs": [
    {
     "data": {
      "text/html": [
       "<div>\n",
       "<style scoped>\n",
       "    .dataframe tbody tr th:only-of-type {\n",
       "        vertical-align: middle;\n",
       "    }\n",
       "\n",
       "    .dataframe tbody tr th {\n",
       "        vertical-align: top;\n",
       "    }\n",
       "\n",
       "    .dataframe thead th {\n",
       "        text-align: right;\n",
       "    }\n",
       "</style>\n",
       "<table border=\"1\" class=\"dataframe\">\n",
       "  <thead>\n",
       "    <tr style=\"text-align: right;\">\n",
       "      <th></th>\n",
       "      <th>Al</th>\n",
       "      <th>Cu</th>\n",
       "      <th>Si</th>\n",
       "      <th>Fe</th>\n",
       "      <th>Mn</th>\n",
       "      <th>zn</th>\n",
       "      <th>Ti</th>\n",
       "      <th>Mg</th>\n",
       "      <th>Residuals</th>\n",
       "      <th>UTS</th>\n",
       "      <th>Yield</th>\n",
       "    </tr>\n",
       "  </thead>\n",
       "  <tbody>\n",
       "    <tr>\n",
       "      <th>0</th>\n",
       "      <td>88.25</td>\n",
       "      <td>7.0</td>\n",
       "      <td>2.0</td>\n",
       "      <td>0.60</td>\n",
       "      <td>0.30</td>\n",
       "      <td>0.125</td>\n",
       "      <td>0.125</td>\n",
       "      <td>0.050</td>\n",
       "      <td>0.25</td>\n",
       "      <td>190</td>\n",
       "      <td>130</td>\n",
       "    </tr>\n",
       "    <tr>\n",
       "      <th>1</th>\n",
       "      <td>83.40</td>\n",
       "      <td>10.0</td>\n",
       "      <td>4.0</td>\n",
       "      <td>1.25</td>\n",
       "      <td>0.00</td>\n",
       "      <td>1.250</td>\n",
       "      <td>0.000</td>\n",
       "      <td>0.125</td>\n",
       "      <td>0.00</td>\n",
       "      <td>210</td>\n",
       "      <td>170</td>\n",
       "    </tr>\n",
       "    <tr>\n",
       "      <th>2</th>\n",
       "      <td>88.65</td>\n",
       "      <td>3.5</td>\n",
       "      <td>6.0</td>\n",
       "      <td>0.50</td>\n",
       "      <td>0.25</td>\n",
       "      <td>0.500</td>\n",
       "      <td>0.125</td>\n",
       "      <td>0.050</td>\n",
       "      <td>0.25</td>\n",
       "      <td>190</td>\n",
       "      <td>110</td>\n",
       "    </tr>\n",
       "    <tr>\n",
       "      <th>3</th>\n",
       "      <td>87.80</td>\n",
       "      <td>1.5</td>\n",
       "      <td>8.0</td>\n",
       "      <td>0.50</td>\n",
       "      <td>0.40</td>\n",
       "      <td>0.075</td>\n",
       "      <td>0.125</td>\n",
       "      <td>0.400</td>\n",
       "      <td>0.25</td>\n",
       "      <td>200</td>\n",
       "      <td>120</td>\n",
       "    </tr>\n",
       "    <tr>\n",
       "      <th>4</th>\n",
       "      <td>85.40</td>\n",
       "      <td>3.5</td>\n",
       "      <td>9.0</td>\n",
       "      <td>0.50</td>\n",
       "      <td>0.25</td>\n",
       "      <td>0.500</td>\n",
       "      <td>0.125</td>\n",
       "      <td>0.275</td>\n",
       "      <td>0.25</td>\n",
       "      <td>230</td>\n",
       "      <td>130</td>\n",
       "    </tr>\n",
       "  </tbody>\n",
       "</table>\n",
       "</div>"
      ],
      "text/plain": [
       "      Al    Cu   Si    Fe    Mn     zn     Ti     Mg  Residuals  UTS   Yield\n",
       "0  88.25   7.0  2.0  0.60  0.30  0.125  0.125  0.050       0.25  190     130\n",
       "1  83.40  10.0  4.0  1.25  0.00  1.250  0.000  0.125       0.00  210     170\n",
       "2  88.65   3.5  6.0  0.50  0.25  0.500  0.125  0.050       0.25  190     110\n",
       "3  87.80   1.5  8.0  0.50  0.40  0.075  0.125  0.400       0.25  200     120\n",
       "4  85.40   3.5  9.0  0.50  0.25  0.500  0.125  0.275       0.25  230     130"
      ]
     },
     "execution_count": 2,
     "metadata": {},
     "output_type": "execute_result"
    }
   ],
   "source": [
    "data=pd.read_csv('ANN.csv')\n",
    "data.head()"
   ]
  },
  {
   "cell_type": "code",
   "execution_count": 3,
   "id": "5b2effef",
   "metadata": {},
   "outputs": [],
   "source": [
    "x= data.drop(columns=['UTS',' Yield'])\n",
    "y=data[[' Yield']]"
   ]
  },
  {
   "cell_type": "code",
   "execution_count": 4,
   "id": "36d56a33",
   "metadata": {},
   "outputs": [],
   "source": [
    "from sklearn.model_selection import train_test_split\n",
    "x_train, x_test, y_train, y_test = train_test_split(x, y, test_size=0.2)"
   ]
  },
  {
   "cell_type": "code",
   "execution_count": 5,
   "id": "b6fab483",
   "metadata": {},
   "outputs": [
    {
     "name": "stdout",
     "output_type": "stream",
     "text": [
      "RMSE value for k=  1 is: 19.063162427133015\n",
      "RMSE value for k=  2 is: 16.148027623211448\n",
      "RMSE value for k=  3 is: 19.176773698832523\n",
      "RMSE value for k=  4 is: 20.053831614033818\n",
      "RMSE value for k=  5 is: 19.46312990798285\n",
      "RMSE value for k=  6 is: 24.923379261614553\n",
      "RMSE value for k=  7 is: 27.20066358853123\n",
      "RMSE value for k=  8 is: 25.70361805655923\n",
      "RMSE value for k=  9 is: 22.479104271383683\n",
      "RMSE value for k=  10 is: 23.178847798333095\n"
     ]
    }
   ],
   "source": [
    "#import required packages\n",
    "from sklearn import metrics\n",
    "from sklearn import neighbors\n",
    "from sklearn.metrics import mean_squared_error \n",
    "from math import sqrt\n",
    "import matplotlib.pyplot as plt\n",
    "%matplotlib inline\n",
    "\n",
    "\n",
    "rmse_val = [] #to store rmse values for different k\n",
    "for K in range(10):\n",
    "    K = K+1\n",
    "    model = neighbors.KNeighborsRegressor(n_neighbors = K)\n",
    "\n",
    "    model.fit(x_train, y_train)  #fit the model\n",
    "    pred=model.predict(x_test) #make prediction on test set\n",
    "    error = (metrics.mean_absolute_percentage_error(y_test,pred) *100)#calculate rmse\n",
    "    rmse_val.append(error) #store rmse values\n",
    "    print('RMSE value for k= ' , K , 'is:', error)"
   ]
  },
  {
   "cell_type": "code",
   "execution_count": 6,
   "id": "069c7d36",
   "metadata": {},
   "outputs": [
    {
     "data": {
      "text/plain": [
       "<AxesSubplot:>"
      ]
     },
     "execution_count": 6,
     "metadata": {},
     "output_type": "execute_result"
    },
    {
     "data": {
      "image/png": "[encoded data removed]",
      "text/plain": [
       "<Figure size 432x288 with 1 Axes>"
      ]
     },
     "metadata": {
      "needs_background": "light"
     },
     "output_type": "display_data"
    }
   ],
   "source": [
    "#plotting the rmse values against k values\n",
    "curve = pd.DataFrame(rmse_val) #elbow curve \n",
    "curve.plot()"
   ]
  },
  {
   "cell_type": "code",
   "execution_count": 7,
   "id": "0286fdfd",
   "metadata": {},
   "outputs": [
    {
     "data": {
      "text/plain": [
       "{'n_neighbors': 2}"
      ]
     },
     "execution_count": 7,
     "metadata": {},
     "output_type": "execute_result"
    }
   ],
   "source": [
    "from sklearn.model_selection import GridSearchCV\n",
    "params = {'n_neighbors':[2,3,4,5,6,7,8,9]}\n",
    "\n",
    "knn = neighbors.KNeighborsRegressor()\n",
    "\n",
    "model = GridSearchCV(knn, params, cv=3)\n",
    "model.fit(x_train,y_train)\n",
    "model.best_params_"
   ]
  },
  {
   "cell_type": "code",
   "execution_count": 8,
   "id": "d0327c29",
   "metadata": {},
   "outputs": [
    {
     "data": {
      "text/plain": [
       "KNeighborsRegressor(n_neighbors=3)"
      ]
     },
     "execution_count": 8,
     "metadata": {},
     "output_type": "execute_result"
    }
   ],
   "source": [
    "from sklearn.neighbors import KNeighborsRegressor\n",
    "model = KNeighborsRegressor(n_neighbors=3)\n",
    "model.fit(x_train, y_train)"
   ]
  },
  {
   "cell_type": "code",
   "execution_count": 9,
   "id": "3263316d",
   "metadata": {},
   "outputs": [
    {
     "name": "stdout",
     "output_type": "stream",
     "text": [
      "[[136.66666667]\n",
      " [136.66666667]\n",
      " [126.66666667]\n",
      " [150.        ]\n",
      " [146.66666667]\n",
      " [ 97.66666667]\n",
      " [166.66666667]\n",
      " [146.66666667]\n",
      " [160.        ]\n",
      " [240.        ]\n",
      " [ 66.        ]\n",
      " [102.        ]\n",
      " [122.        ]\n",
      " [ 87.66666667]\n",
      " [216.66666667]\n",
      " [216.66666667]\n",
      " [ 82.66666667]\n",
      " [166.66666667]\n",
      " [150.        ]\n",
      " [146.66666667]\n",
      " [153.33333333]\n",
      " [ 66.        ]\n",
      " [123.33333333]\n",
      " [123.33333333]\n",
      " [146.66666667]\n",
      " [160.        ]\n",
      " [233.33333333]\n",
      " [140.        ]\n",
      " [102.        ]\n",
      " [102.        ]\n",
      " [153.33333333]\n",
      " [153.33333333]\n",
      " [200.        ]\n",
      " [116.        ]\n",
      " [216.66666667]\n",
      " [146.66666667]\n",
      " [233.33333333]\n",
      " [233.33333333]\n",
      " [153.33333333]]\n"
     ]
    }
   ],
   "source": [
    "y_pred = model.predict(x)\n",
    "y_predi = model.predict(x)\n",
    "print(y_pred)"
   ]
  },
  {
   "cell_type": "code",
   "execution_count": 10,
   "id": "c8881ba1",
   "metadata": {},
   "outputs": [
    {
     "name": "stdout",
     "output_type": "stream",
     "text": [
      "     Yield\n",
      "0      130\n",
      "1      170\n",
      "2      110\n",
      "3      120\n",
      "4      130\n",
      "5      100\n",
      "6      170\n",
      "7      160\n",
      "8      170\n",
      "9      270\n",
      "10      65\n",
      "11      83\n",
      "12     120\n",
      "13     148\n",
      "14     180\n",
      "15     250\n",
      "16      83\n",
      "17     170\n",
      "18     170\n",
      "19     130\n",
      "20     120\n",
      "21      50\n",
      "22     110\n",
      "23     110\n",
      "24     160\n",
      "25     150\n",
      "26     240\n",
      "27     140\n",
      "28      83\n",
      "29      74\n",
      "30     190\n",
      "31     140\n",
      "32     200\n",
      "33     170\n",
      "34     220\n",
      "35     160\n",
      "36     210\n",
      "37     250\n",
      "38     130\n"
     ]
    }
   ],
   "source": [
    "print(y)"
   ]
  },
  {
   "cell_type": "code",
   "execution_count": 11,
   "id": "271feaa8",
   "metadata": {},
   "outputs": [
    {
     "name": "stdout",
     "output_type": "stream",
     "text": [
      "Mean Absolute Percentage Error: 0.12911074106363482\n"
     ]
    }
   ],
   "source": [
    "from sklearn import metrics\n",
    "\n",
    "print('Mean Absolute Percentage Error:', metrics.mean_absolute_percentage_error(y, y_pred))\n",
    "\n"
   ]
  },
  {
   "cell_type": "code",
   "execution_count": 12,
   "id": "c12b5103",
   "metadata": {},
   "outputs": [],
   "source": [
    "import pickle\n",
    "saved_model_svm = open('KNN_Yield', 'wb')\n",
    "pickle.dump(knn, saved_model_svm)  \n"
   ]
  },
  {
   "cell_type": "code",
   "execution_count": null,
   "id": "49d488de",
   "metadata": {},
   "outputs": [],
   "source": []
  }
 ],
 "metadata": {
  "kernelspec": {
   "display_name": "Python 3 (ipykernel)",
   "language": "python",
   "name": "python3"
  },
  "language_info": {
   "codemirror_mode": {
    "name": "ipython",
    "version": 3
   },
   "file_extension": ".py",
   "mimetype": "text/x-python",
   "name": "python",
   "nbconvert_exporter": "python",
   "pygments_lexer": "ipython3",
   "version": "3.9.12"
  }
 },
 "nbformat": 4,
 "nbformat_minor": 5
}
